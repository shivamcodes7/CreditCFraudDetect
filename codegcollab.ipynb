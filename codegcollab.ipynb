import numpy as np
import pandas as pd
import matplotlib.pyplot as plt
import seaborn as sns

data=pd.read_csv('creditcard.csv')

ls

print(data.columns)
print(data.shape)
data=data.sample(frac=0.1,random_state=1)
print(data.shape)

print(data.describe)

data.hist(figsize=(20,20))
plt.show()

Fraud = data[data['Class'] == 1]
Valid = data[data['Class'] == 0]

outlier_fraction = len(Fraud)/float(len(Valid))
print(outlier_fraction)

print('Fraud Cases: {}'.format(len(Fraud)))
print('Valid Transactions: {}'.format(len(Valid)))

corrmat=data.corr()
fig = plt.figure(figsize = (12, 9))

sns.heatmap(corrmat, vmax = .8, square = True)
plt.show()

columns = data.columns.tolist()
columns = [c for c in columns if c not in ["Class"]]
target = "Class"
X = data[columns]
Y = data[target]
print(X.shape)
print(Y.shape)

plt.figure(figsize=(9, 7))
n_outliers = len(Fraud)
plt.show()
